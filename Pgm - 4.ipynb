{
 "cells": [
  {
   "cell_type": "code",
   "execution_count": 40,
   "id": "7b08a5f2",
   "metadata": {},
   "outputs": [],
   "source": [
    "import numpy as np\n",
    "\n",
    "\n",
    "np.random.seed(0)\n",
    "x = 2 * np.random.rand(100, 1) # hours studied\n",
    "y = 50 + np.random.rand(100, 1) # marks"
   ]
  },
  {
   "cell_type": "code",
   "execution_count": 42,
   "id": "25597179",
   "metadata": {},
   "outputs": [],
   "source": [
    "from sklearn.model_selection import train_test_split\n",
    "x_train, x_test, y_train, y_test = train_test_split(x, y, test_size=0.2, random_state=42)"
   ]
  },
  {
   "cell_type": "code",
   "execution_count": 39,
   "id": "cb725de5",
   "metadata": {},
   "outputs": [
    {
     "data": {
      "text/plain": [
       "(array([[1.09762701],\n",
       "        [1.43037873],\n",
       "        [1.20552675],\n",
       "        [1.08976637],\n",
       "        [0.8473096 ],\n",
       "        [1.29178823],\n",
       "        [0.87517442],\n",
       "        [1.783546  ],\n",
       "        [1.92732552],\n",
       "        [0.76688304],\n",
       "        [1.58345008],\n",
       "        [1.05778984],\n",
       "        [1.13608912],\n",
       "        [1.85119328],\n",
       "        [0.14207212],\n",
       "        [0.1742586 ],\n",
       "        [0.04043679],\n",
       "        [1.66523969],\n",
       "        [1.5563135 ],\n",
       "        [1.7400243 ],\n",
       "        [1.95723668],\n",
       "        [1.59831713],\n",
       "        [0.92295872],\n",
       "        [1.56105835],\n",
       "        [0.23654885],\n",
       "        [1.27984204],\n",
       "        [0.28670657],\n",
       "        [1.88933783],\n",
       "        [1.04369664],\n",
       "        [0.82932388],\n",
       "        [0.52911122],\n",
       "        [1.54846738],\n",
       "        [0.91230066],\n",
       "        [1.1368679 ],\n",
       "        [0.0375796 ],\n",
       "        [1.23527099],\n",
       "        [1.22419145],\n",
       "        [1.23386799],\n",
       "        [1.88749616],\n",
       "        [1.3636406 ],\n",
       "        [0.7190158 ],\n",
       "        [0.87406391],\n",
       "        [1.39526239],\n",
       "        [0.12045094],\n",
       "        [1.33353343],\n",
       "        [1.34127574],\n",
       "        [0.42076512],\n",
       "        [0.2578526 ],\n",
       "        [0.6308567 ],\n",
       "        [0.72742154],\n",
       "        [1.14039354],\n",
       "        [0.87720303],\n",
       "        [1.97674768],\n",
       "        [0.20408962],\n",
       "        [0.41775351],\n",
       "        [0.32261904],\n",
       "        [1.30621665],\n",
       "        [0.50658321],\n",
       "        [0.93262155],\n",
       "        [0.48885118],\n",
       "        [0.31793917],\n",
       "        [0.22075028],\n",
       "        [1.31265918],\n",
       "        [0.2763659 ],\n",
       "        [0.39316472],\n",
       "        [0.73745034],\n",
       "        [1.64198646],\n",
       "        [0.19420255],\n",
       "        [1.67588981],\n",
       "        [0.19219682],\n",
       "        [1.95291893],\n",
       "        [0.9373024 ],\n",
       "        [1.95352218],\n",
       "        [1.20969104],\n",
       "        [1.47852716],\n",
       "        [0.07837558],\n",
       "        [0.56561393],\n",
       "        [0.24039312],\n",
       "        [0.5922804 ],\n",
       "        [0.23745544],\n",
       "        [0.63596636],\n",
       "        [0.82852599],\n",
       "        [0.12829499],\n",
       "        [1.38494424],\n",
       "        [1.13320291],\n",
       "        [0.53077898],\n",
       "        [1.04649611],\n",
       "        [0.18788102],\n",
       "        [1.15189299],\n",
       "        [1.8585924 ],\n",
       "        [0.6371379 ],\n",
       "        [1.33482076],\n",
       "        [0.26359572],\n",
       "        [1.43265441],\n",
       "        [0.57881219],\n",
       "        [0.36638272],\n",
       "        [1.17302587],\n",
       "        [0.04021509],\n",
       "        [1.65788006],\n",
       "        [0.00939095]]),\n",
       " array([[50.67781654],\n",
       "        [50.27000797],\n",
       "        [50.73519402],\n",
       "        [50.96218855],\n",
       "        [50.24875314],\n",
       "        [50.57615733],\n",
       "        [50.59204193],\n",
       "        [50.57225191],\n",
       "        [50.22308163],\n",
       "        [50.95274901],\n",
       "        [50.44712538],\n",
       "        [50.84640867],\n",
       "        [50.69947928],\n",
       "        [50.29743695],\n",
       "        [50.81379782],\n",
       "        [50.39650574],\n",
       "        [50.8811032 ],\n",
       "        [50.58127287],\n",
       "        [50.88173536],\n",
       "        [50.69253159],\n",
       "        [50.72525428],\n",
       "        [50.50132438],\n",
       "        [50.95608363],\n",
       "        [50.6439902 ],\n",
       "        [50.42385505],\n",
       "        [50.60639321],\n",
       "        [50.0191932 ],\n",
       "        [50.30157482],\n",
       "        [50.66017354],\n",
       "        [50.29007761],\n",
       "        [50.61801543],\n",
       "        [50.4287687 ],\n",
       "        [50.13547406],\n",
       "        [50.29828233],\n",
       "        [50.56996491],\n",
       "        [50.59087276],\n",
       "        [50.57432525],\n",
       "        [50.65320082],\n",
       "        [50.65210327],\n",
       "        [50.43141844],\n",
       "        [50.8965466 ],\n",
       "        [50.36756187],\n",
       "        [50.43586493],\n",
       "        [50.89192336],\n",
       "        [50.80619399],\n",
       "        [50.70388858],\n",
       "        [50.10022689],\n",
       "        [50.91948261],\n",
       "        [50.7142413 ],\n",
       "        [50.99884701],\n",
       "        [50.1494483 ],\n",
       "        [50.86812606],\n",
       "        [50.16249293],\n",
       "        [50.61555956],\n",
       "        [50.12381998],\n",
       "        [50.84800823],\n",
       "        [50.80731896],\n",
       "        [50.56910074],\n",
       "        [50.4071833 ],\n",
       "        [50.069167  ],\n",
       "        [50.69742877],\n",
       "        [50.45354268],\n",
       "        [50.7220556 ],\n",
       "        [50.86638233],\n",
       "        [50.97552151],\n",
       "        [50.85580334],\n",
       "        [50.01171408],\n",
       "        [50.35997806],\n",
       "        [50.72999056],\n",
       "        [50.17162968],\n",
       "        [50.52103661],\n",
       "        [50.05433799],\n",
       "        [50.19999652],\n",
       "        [50.01852179],\n",
       "        [50.7936977 ],\n",
       "        [50.22392469],\n",
       "        [50.34535168],\n",
       "        [50.92808129],\n",
       "        [50.7044144 ],\n",
       "        [50.03183893],\n",
       "        [50.16469416],\n",
       "        [50.6214784 ],\n",
       "        [50.57722859],\n",
       "        [50.23789282],\n",
       "        [50.934214  ],\n",
       "        [50.61396596],\n",
       "        [50.5356328 ],\n",
       "        [50.58990998],\n",
       "        [50.73012203],\n",
       "        [50.311945  ],\n",
       "        [50.39822106],\n",
       "        [50.20984375],\n",
       "        [50.18619301],\n",
       "        [50.94437239],\n",
       "        [50.7395508 ],\n",
       "        [50.49045881],\n",
       "        [50.22741463],\n",
       "        [50.25435648],\n",
       "        [50.05802916],\n",
       "        [50.43441663]]))"
      ]
     },
     "execution_count": 39,
     "metadata": {},
     "output_type": "execute_result"
    }
   ],
   "source": [
    "x, y"
   ]
  },
  {
   "cell_type": "code",
   "execution_count": 43,
   "id": "76d7620d",
   "metadata": {},
   "outputs": [
    {
     "data": {
      "text/html": [
       "<style>#sk-container-id-3 {color: black;}#sk-container-id-3 pre{padding: 0;}#sk-container-id-3 div.sk-toggleable {background-color: white;}#sk-container-id-3 label.sk-toggleable__label {cursor: pointer;display: block;width: 100%;margin-bottom: 0;padding: 0.3em;box-sizing: border-box;text-align: center;}#sk-container-id-3 label.sk-toggleable__label-arrow:before {content: \"▸\";float: left;margin-right: 0.25em;color: #696969;}#sk-container-id-3 label.sk-toggleable__label-arrow:hover:before {color: black;}#sk-container-id-3 div.sk-estimator:hover label.sk-toggleable__label-arrow:before {color: black;}#sk-container-id-3 div.sk-toggleable__content {max-height: 0;max-width: 0;overflow: hidden;text-align: left;background-color: #f0f8ff;}#sk-container-id-3 div.sk-toggleable__content pre {margin: 0.2em;color: black;border-radius: 0.25em;background-color: #f0f8ff;}#sk-container-id-3 input.sk-toggleable__control:checked~div.sk-toggleable__content {max-height: 200px;max-width: 100%;overflow: auto;}#sk-container-id-3 input.sk-toggleable__control:checked~label.sk-toggleable__label-arrow:before {content: \"▾\";}#sk-container-id-3 div.sk-estimator input.sk-toggleable__control:checked~label.sk-toggleable__label {background-color: #d4ebff;}#sk-container-id-3 div.sk-label input.sk-toggleable__control:checked~label.sk-toggleable__label {background-color: #d4ebff;}#sk-container-id-3 input.sk-hidden--visually {border: 0;clip: rect(1px 1px 1px 1px);clip: rect(1px, 1px, 1px, 1px);height: 1px;margin: -1px;overflow: hidden;padding: 0;position: absolute;width: 1px;}#sk-container-id-3 div.sk-estimator {font-family: monospace;background-color: #f0f8ff;border: 1px dotted black;border-radius: 0.25em;box-sizing: border-box;margin-bottom: 0.5em;}#sk-container-id-3 div.sk-estimator:hover {background-color: #d4ebff;}#sk-container-id-3 div.sk-parallel-item::after {content: \"\";width: 100%;border-bottom: 1px solid gray;flex-grow: 1;}#sk-container-id-3 div.sk-label:hover label.sk-toggleable__label {background-color: #d4ebff;}#sk-container-id-3 div.sk-serial::before {content: \"\";position: absolute;border-left: 1px solid gray;box-sizing: border-box;top: 0;bottom: 0;left: 50%;z-index: 0;}#sk-container-id-3 div.sk-serial {display: flex;flex-direction: column;align-items: center;background-color: white;padding-right: 0.2em;padding-left: 0.2em;position: relative;}#sk-container-id-3 div.sk-item {position: relative;z-index: 1;}#sk-container-id-3 div.sk-parallel {display: flex;align-items: stretch;justify-content: center;background-color: white;position: relative;}#sk-container-id-3 div.sk-item::before, #sk-container-id-3 div.sk-parallel-item::before {content: \"\";position: absolute;border-left: 1px solid gray;box-sizing: border-box;top: 0;bottom: 0;left: 50%;z-index: -1;}#sk-container-id-3 div.sk-parallel-item {display: flex;flex-direction: column;z-index: 1;position: relative;background-color: white;}#sk-container-id-3 div.sk-parallel-item:first-child::after {align-self: flex-end;width: 50%;}#sk-container-id-3 div.sk-parallel-item:last-child::after {align-self: flex-start;width: 50%;}#sk-container-id-3 div.sk-parallel-item:only-child::after {width: 0;}#sk-container-id-3 div.sk-dashed-wrapped {border: 1px dashed gray;margin: 0 0.4em 0.5em 0.4em;box-sizing: border-box;padding-bottom: 0.4em;background-color: white;}#sk-container-id-3 div.sk-label label {font-family: monospace;font-weight: bold;display: inline-block;line-height: 1.2em;}#sk-container-id-3 div.sk-label-container {text-align: center;}#sk-container-id-3 div.sk-container {/* jupyter's `normalize.less` sets `[hidden] { display: none; }` but bootstrap.min.css set `[hidden] { display: none !important; }` so we also need the `!important` here to be able to override the default hidden behavior on the sphinx rendered scikit-learn.org. See: https://github.com/scikit-learn/scikit-learn/issues/21755 */display: inline-block !important;position: relative;}#sk-container-id-3 div.sk-text-repr-fallback {display: none;}</style><div id=\"sk-container-id-3\" class=\"sk-top-container\"><div class=\"sk-text-repr-fallback\"><pre>LinearRegression()</pre><b>In a Jupyter environment, please rerun this cell to show the HTML representation or trust the notebook. <br />On GitHub, the HTML representation is unable to render, please try loading this page with nbviewer.org.</b></div><div class=\"sk-container\" hidden><div class=\"sk-item\"><div class=\"sk-estimator sk-toggleable\"><input class=\"sk-toggleable__control sk-hidden--visually\" id=\"sk-estimator-id-3\" type=\"checkbox\" checked><label for=\"sk-estimator-id-3\" class=\"sk-toggleable__label sk-toggleable__label-arrow\">LinearRegression</label><div class=\"sk-toggleable__content\"><pre>LinearRegression()</pre></div></div></div></div></div>"
      ],
      "text/plain": [
       "LinearRegression()"
      ]
     },
     "execution_count": 43,
     "metadata": {},
     "output_type": "execute_result"
    }
   ],
   "source": [
    "from sklearn.linear_model import LinearRegression\n",
    "regressor = LinearRegression()\n",
    "\n",
    "regressor.fit(x_train, y_train)"
   ]
  },
  {
   "cell_type": "code",
   "execution_count": 44,
   "id": "b71460ce",
   "metadata": {},
   "outputs": [],
   "source": [
    "y_pred = regressor.predict(x_test)"
   ]
  },
  {
   "cell_type": "code",
   "execution_count": 45,
   "id": "c8bf4506",
   "metadata": {},
   "outputs": [
    {
     "name": "stdout",
     "output_type": "stream",
     "text": [
      "RMSE: 0.2570388548514416\n",
      "R-squared Score: 0.003446620367608011\n"
     ]
    }
   ],
   "source": [
    "from sklearn.metrics import mean_squared_error, r2_score\n",
    "\n",
    "\n",
    "# Calculate RMSE and R-squared score\n",
    "rmse = np.sqrt(mean_squared_error(y_test, y_pred))\n",
    "r2 = r2_score(y_test, y_pred)\n",
    "\n",
    "# Output RMSE and R2 score\n",
    "print(f\"RMSE: {rmse}\")\n",
    "print(f\"R-squared Score: {r2}\")"
   ]
  },
  {
   "cell_type": "code",
   "execution_count": 46,
   "id": "2875b473",
   "metadata": {},
   "outputs": [
    {
     "data": {
      "image/png": "[encoded data removed]",
      "text/plain": [
       "<Figure size 640x480 with 1 Axes>"
      ]
     },
     "metadata": {},
     "output_type": "display_data"
    }
   ],
   "source": [
    "import matplotlib.pyplot as plt\n",
    "\n",
    "plt.scatter(x_test, y_test, color='blue', label='Actual data')\n",
    "plt.plot(x_test, y_pred, color='red', linewidth=2, label='Linear regression')\n",
    "plt.xlabel('Feature')\n",
    "plt.ylabel('Target')\n",
    "plt.title('Simple Linear Regression')\n",
    "plt.legend()\n",
    "plt.show()"
   ]
  }
 ],
 "metadata": {
  "kernelspec": {
   "display_name": "Python 3 (ipykernel)",
   "language": "python",
   "name": "python3"
  },
  "language_info": {
   "codemirror_mode": {
    "name": "ipython",
    "version": 3
   },
   "file_extension": ".py",
   "mimetype": "text/x-python",
   "name": "python",
   "nbconvert_exporter": "python",
   "pygments_lexer": "ipython3",
   "version": "3.11.4"
  }
 },
 "nbformat": 4,
 "nbformat_minor": 5
}
